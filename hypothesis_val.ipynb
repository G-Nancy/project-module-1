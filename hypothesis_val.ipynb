{
 "cells": [
  {
   "cell_type": "markdown",
   "metadata": {},
   "source": [
    "### Define hypothese types\n",
    "\n",
    "independent samples t-test (ttest_ind)\n",
    "compare the **means of two different groups. The groups should not be related\n",
    "if p<0.05 means are significantly different.\n",
    "\n",
    "### Paired t-test : two related groups — like before and after (ttest_rel) within same population\n",
    "Test scores before and after a experiment\n",
    "if p < 0.05, the change is statistically significant.\n",
    "\n"
   ]
  },
  {
   "cell_type": "code",
   "execution_count": 58,
   "metadata": {},
   "outputs": [],
   "source": [
    "import pandas as pd\n",
    "import matplotlib.pyplot as plt\n",
    "import seaborn as sns\n",
    "import json\n",
    "import scipy.stats as st\n",
    "import numpy as np\n"
   ]
  },
  {
   "cell_type": "code",
   "execution_count": 59,
   "metadata": {},
   "outputs": [],
   "source": [
    "def read_jsonl_to_dataframe(filepath):\n",
    "    \"\"\" Reads a JSON Lines file into a Pandas DataFrame.\"\"\"\n",
    "    try:\n",
    "        df = pd.read_json(filepath, lines=True, convert_dates=False)\n",
    "        return df\n",
    "    except Exception as e:\n",
    "        print(f\"Error reading jsonl to dataframe: {e}\")\n",
    "        return None"
   ]
  },
  {
   "cell_type": "code",
   "execution_count": 60,
   "metadata": {},
   "outputs": [
    {
     "data": {
      "text/html": [
       "<div>\n",
       "<style scoped>\n",
       "    .dataframe tbody tr th:only-of-type {\n",
       "        vertical-align: middle;\n",
       "    }\n",
       "\n",
       "    .dataframe tbody tr th {\n",
       "        vertical-align: top;\n",
       "    }\n",
       "\n",
       "    .dataframe thead th {\n",
       "        text-align: right;\n",
       "    }\n",
       "</style>\n",
       "<table border=\"1\" class=\"dataframe\">\n",
       "  <thead>\n",
       "    <tr style=\"text-align: right;\">\n",
       "      <th></th>\n",
       "      <th>name</th>\n",
       "      <th>size</th>\n",
       "      <th>date</th>\n",
       "      <th>Cuisine</th>\n",
       "      <th>Happiness_Level</th>\n",
       "      <th>Meal_Course</th>\n",
       "      <th>Sugar</th>\n",
       "      <th>Salt</th>\n",
       "      <th>Healthy</th>\n",
       "      <th>Processing_level</th>\n",
       "      <th>Preparation_Method</th>\n",
       "      <th>Dominant_Color</th>\n",
       "      <th>Food_Diversity</th>\n",
       "      <th>image_month</th>\n",
       "    </tr>\n",
       "  </thead>\n",
       "  <tbody>\n",
       "    <tr>\n",
       "      <th>57</th>\n",
       "      <td>Food/image(44).jpg</td>\n",
       "      <td>2292199</td>\n",
       "      <td>NaT</td>\n",
       "      <td>Unknown</td>\n",
       "      <td>4</td>\n",
       "      <td>Drink</td>\n",
       "      <td>1</td>\n",
       "      <td>1</td>\n",
       "      <td>1</td>\n",
       "      <td>1</td>\n",
       "      <td>Unknown</td>\n",
       "      <td>Red</td>\n",
       "      <td>1</td>\n",
       "      <td>NaN</td>\n",
       "    </tr>\n",
       "    <tr>\n",
       "      <th>259</th>\n",
       "      <td>Food/PXL_20221222_142005359.MP.jpg</td>\n",
       "      <td>4058173</td>\n",
       "      <td>2022-12-22</td>\n",
       "      <td>Unknown</td>\n",
       "      <td>4</td>\n",
       "      <td>Drink</td>\n",
       "      <td>2</td>\n",
       "      <td>1</td>\n",
       "      <td>1</td>\n",
       "      <td>2</td>\n",
       "      <td>Unknown</td>\n",
       "      <td>Brown</td>\n",
       "      <td>1</td>\n",
       "      <td>2022-12</td>\n",
       "    </tr>\n",
       "    <tr>\n",
       "      <th>60</th>\n",
       "      <td>Food/PXL_20240620_110553482.jpg</td>\n",
       "      <td>3109757</td>\n",
       "      <td>2024-06-20</td>\n",
       "      <td>Fusion</td>\n",
       "      <td>4</td>\n",
       "      <td>Main Course</td>\n",
       "      <td>1</td>\n",
       "      <td>2</td>\n",
       "      <td>1</td>\n",
       "      <td>1</td>\n",
       "      <td>Steamed, Fried</td>\n",
       "      <td>Brown</td>\n",
       "      <td>3</td>\n",
       "      <td>2024-06</td>\n",
       "    </tr>\n",
       "    <tr>\n",
       "      <th>271</th>\n",
       "      <td>Food/PXL_20250414_110304284.jpg</td>\n",
       "      <td>1601182</td>\n",
       "      <td>2025-04-14</td>\n",
       "      <td>Indian</td>\n",
       "      <td>3</td>\n",
       "      <td>Side Dish</td>\n",
       "      <td>1</td>\n",
       "      <td>2</td>\n",
       "      <td>2</td>\n",
       "      <td>1</td>\n",
       "      <td>Unknown</td>\n",
       "      <td>Green</td>\n",
       "      <td>1</td>\n",
       "      <td>2025-04</td>\n",
       "    </tr>\n",
       "    <tr>\n",
       "      <th>218</th>\n",
       "      <td>Food/image(8).jpg</td>\n",
       "      <td>1546412</td>\n",
       "      <td>NaT</td>\n",
       "      <td>Unknown</td>\n",
       "      <td>4</td>\n",
       "      <td>Dessert</td>\n",
       "      <td>3</td>\n",
       "      <td>1</td>\n",
       "      <td>0</td>\n",
       "      <td>2</td>\n",
       "      <td>Unknown</td>\n",
       "      <td>Brown</td>\n",
       "      <td>1</td>\n",
       "      <td>NaN</td>\n",
       "    </tr>\n",
       "  </tbody>\n",
       "</table>\n",
       "</div>"
      ],
      "text/plain": [
       "                                   name     size       date  Cuisine  \\\n",
       "57                   Food/image(44).jpg  2292199        NaT  Unknown   \n",
       "259  Food/PXL_20221222_142005359.MP.jpg  4058173 2022-12-22  Unknown   \n",
       "60      Food/PXL_20240620_110553482.jpg  3109757 2024-06-20   Fusion   \n",
       "271     Food/PXL_20250414_110304284.jpg  1601182 2025-04-14   Indian   \n",
       "218                   Food/image(8).jpg  1546412        NaT  Unknown   \n",
       "\n",
       "     Happiness_Level  Meal_Course  Sugar  Salt  Healthy  Processing_level  \\\n",
       "57                 4        Drink      1     1        1                 1   \n",
       "259                4        Drink      2     1        1                 2   \n",
       "60                 4  Main Course      1     2        1                 1   \n",
       "271                3    Side Dish      1     2        2                 1   \n",
       "218                4      Dessert      3     1        0                 2   \n",
       "\n",
       "    Preparation_Method Dominant_Color  Food_Diversity image_month  \n",
       "57             Unknown            Red               1         NaN  \n",
       "259            Unknown          Brown               1     2022-12  \n",
       "60      Steamed, Fried          Brown               3     2024-06  \n",
       "271            Unknown          Green               1     2025-04  \n",
       "218            Unknown          Brown               1         NaN  "
      ]
     },
     "execution_count": 60,
     "metadata": {},
     "output_type": "execute_result"
    }
   ],
   "source": [
    "food_data = \"llm_output.json\"\n",
    "\n",
    "df = read_jsonl_to_dataframe(food_data)\n",
    "df['date'] = pd.to_datetime(df['date'], format='%Y%m%d')\n",
    "df['image_month'] = df['date'].dt.strftime('%Y-%m')\n",
    "\n",
    "# 2 = Healthy, 1 = Balanced, 0 = 'Unhealthy'\n",
    "health_value_map = {\n",
    "    'healthy':2,\n",
    "    'Balanced':1,\n",
    "    'Unhealthy':0,\n",
    "    'Unknown':1,\n",
    "    'No':0,\n",
    "    'balanced':1,\n",
    "    'Yes':2,\n",
    "    'unhealthy':0,\n",
    "    'Healthy':2\n",
    "}\n",
    "\n",
    "gen_map = {\n",
    "    'No':0,\n",
    "    'Low':1,\n",
    "    'Medium':2,\n",
    "    'High':3\n",
    "}\n",
    "\n",
    "processing_map = {\n",
    "    'Minimally Processed':1,\n",
    "    'Processed':2,\n",
    "    'Unprocessed':0\n",
    "}\n",
    "\n",
    "\n",
    "df_orig = df.copy()\n",
    "df['Healthy'] = df['Healthy'].map(health_value_map)\n",
    "df['Salt'] = df['Salt'].map(gen_map)\n",
    "df['Sugar'] = df['Sugar'].map(gen_map)\n",
    "df['Food_Diversity'] = df['Food_Diversity'].map(gen_map)\n",
    "df['Processing_level']= df['Processing_level'].map(processing_map)\n",
    "\n",
    "df.sample(5)"
   ]
  },
  {
   "cell_type": "code",
   "execution_count": 61,
   "metadata": {},
   "outputs": [
    {
     "data": {
      "text/html": [
       "<div>\n",
       "<style scoped>\n",
       "    .dataframe tbody tr th:only-of-type {\n",
       "        vertical-align: middle;\n",
       "    }\n",
       "\n",
       "    .dataframe tbody tr th {\n",
       "        vertical-align: top;\n",
       "    }\n",
       "\n",
       "    .dataframe thead th {\n",
       "        text-align: right;\n",
       "    }\n",
       "</style>\n",
       "<table border=\"1\" class=\"dataframe\">\n",
       "  <thead>\n",
       "    <tr style=\"text-align: right;\">\n",
       "      <th></th>\n",
       "      <th>Happiness_Level</th>\n",
       "      <th>Sugar</th>\n",
       "      <th>Salt</th>\n",
       "      <th>Healthy</th>\n",
       "      <th>Processing_level</th>\n",
       "      <th>Food_Diversity</th>\n",
       "    </tr>\n",
       "  </thead>\n",
       "  <tbody>\n",
       "    <tr>\n",
       "      <th>Happiness_Level</th>\n",
       "      <td>1.000000</td>\n",
       "      <td>0.290237</td>\n",
       "      <td>-0.037341</td>\n",
       "      <td>-0.029132</td>\n",
       "      <td>0.108371</td>\n",
       "      <td>0.093414</td>\n",
       "    </tr>\n",
       "    <tr>\n",
       "      <th>Sugar</th>\n",
       "      <td>0.290237</td>\n",
       "      <td>1.000000</td>\n",
       "      <td>-0.551170</td>\n",
       "      <td>-0.514042</td>\n",
       "      <td>0.664263</td>\n",
       "      <td>-0.306616</td>\n",
       "    </tr>\n",
       "    <tr>\n",
       "      <th>Salt</th>\n",
       "      <td>-0.037341</td>\n",
       "      <td>-0.551170</td>\n",
       "      <td>1.000000</td>\n",
       "      <td>0.096176</td>\n",
       "      <td>-0.331087</td>\n",
       "      <td>0.432985</td>\n",
       "    </tr>\n",
       "    <tr>\n",
       "      <th>Healthy</th>\n",
       "      <td>-0.029132</td>\n",
       "      <td>-0.514042</td>\n",
       "      <td>0.096176</td>\n",
       "      <td>1.000000</td>\n",
       "      <td>-0.618172</td>\n",
       "      <td>0.260545</td>\n",
       "    </tr>\n",
       "    <tr>\n",
       "      <th>Processing_level</th>\n",
       "      <td>0.108371</td>\n",
       "      <td>0.664263</td>\n",
       "      <td>-0.331087</td>\n",
       "      <td>-0.618172</td>\n",
       "      <td>1.000000</td>\n",
       "      <td>-0.302990</td>\n",
       "    </tr>\n",
       "    <tr>\n",
       "      <th>Food_Diversity</th>\n",
       "      <td>0.093414</td>\n",
       "      <td>-0.306616</td>\n",
       "      <td>0.432985</td>\n",
       "      <td>0.260545</td>\n",
       "      <td>-0.302990</td>\n",
       "      <td>1.000000</td>\n",
       "    </tr>\n",
       "  </tbody>\n",
       "</table>\n",
       "</div>"
      ],
      "text/plain": [
       "                  Happiness_Level     Sugar      Salt   Healthy  \\\n",
       "Happiness_Level          1.000000  0.290237 -0.037341 -0.029132   \n",
       "Sugar                    0.290237  1.000000 -0.551170 -0.514042   \n",
       "Salt                    -0.037341 -0.551170  1.000000  0.096176   \n",
       "Healthy                 -0.029132 -0.514042  0.096176  1.000000   \n",
       "Processing_level         0.108371  0.664263 -0.331087 -0.618172   \n",
       "Food_Diversity           0.093414 -0.306616  0.432985  0.260545   \n",
       "\n",
       "                  Processing_level  Food_Diversity  \n",
       "Happiness_Level           0.108371        0.093414  \n",
       "Sugar                     0.664263       -0.306616  \n",
       "Salt                     -0.331087        0.432985  \n",
       "Healthy                  -0.618172        0.260545  \n",
       "Processing_level          1.000000       -0.302990  \n",
       "Food_Diversity           -0.302990        1.000000  "
      ]
     },
     "execution_count": 61,
     "metadata": {},
     "output_type": "execute_result"
    }
   ],
   "source": [
    "df_n = df[['Happiness_Level', 'Sugar', 'Salt', 'Healthy','Processing_level', 'Food_Diversity']]\n",
    "df_n.corr()"
   ]
  },
  {
   "cell_type": "code",
   "execution_count": 62,
   "metadata": {},
   "outputs": [],
   "source": [
    "def t_test_features(s1, s2, features):\n",
    "    \"\"\"Test means of a feature set of two samples\n",
    "    \n",
    "    Args:\n",
    "        s1 (dataframe): sample 1\n",
    "        s2 (dataframe): sample 2\n",
    "        features (list): an array of features to test\n",
    "    \n",
    "    Returns:\n",
    "        dict: a dictionary of t-test scores for each feature where the feature name is the key and the p-value is the value\n",
    "    \"\"\"\n",
    "    results = {}\n",
    "    for f in features:\n",
    "        t_stat, p_val = st.ttest_ind(s1[f], s2[f])\n",
    "        results[f] = p_val\n",
    "\n",
    "    return results"
   ]
  },
  {
   "cell_type": "markdown",
   "metadata": {},
   "source": [
    "### Hypothesis: Cusines vs. rest\n",
    "H0 : Cuisine is not related to healthy choices\n",
    "\n",
    "H0: Cusines is not related to happiness"
   ]
  },
  {
   "cell_type": "code",
   "execution_count": 63,
   "metadata": {},
   "outputs": [
    {
     "data": {
      "text/plain": [
       "{'Happiness_Level': np.float64(0.17760715468273314),\n",
       " 'Sugar': np.float64(9.99017229978088e-06),\n",
       " 'Salt': np.float64(6.267788895285081e-10),\n",
       " 'Healthy': np.float64(1.0319079422408495e-05),\n",
       " 'Processing_level': np.float64(2.1141829263598602e-05)}"
      ]
     },
     "execution_count": 63,
     "metadata": {},
     "output_type": "execute_result"
    }
   ],
   "source": [
    "f_lst = ['Happiness_Level', 'Sugar', 'Salt', 'Healthy', 'Processing_level']\n",
    "\n",
    "food_div3 = df[df['Food_Diversity']==3]\n",
    "food_div1 = df[df['Food_Diversity']==1]\n",
    "food_crse_fusion = df[df['Cuisine']=='Fusion']\n",
    "food_crse_indian = df[df['Cuisine']=='Indian']\n",
    "food_crse_Italian = df[df['Cuisine']=='Italian']\n",
    "\n",
    "res = t_test_features(food_div3,food_div1,f_lst)\n",
    "res\n"
   ]
  },
  {
   "cell_type": "markdown",
   "metadata": {},
   "source": [
    "#### Happiness level is invariable in diversity raw processed and high processed food, mostly same\n",
    "\n",
    "(Sugar/Salt/Healthy/Processing level) are different between raw processed and high processed food"
   ]
  },
  {
   "cell_type": "markdown",
   "metadata": {},
   "source": [
    "### Summary : food diversity share is similar to happiness level and mostly related"
   ]
  },
  {
   "cell_type": "code",
   "execution_count": 64,
   "metadata": {},
   "outputs": [
    {
     "data": {
      "text/plain": [
       "{'Happiness_Level': np.float64(0.20775180166121093),\n",
       " 'Sugar': np.float64(0.34302454194036813),\n",
       " 'Salt': np.float64(0.046241135549500705),\n",
       " 'Healthy': np.float64(6.829220051709067e-05),\n",
       " 'Processing_level': np.float64(0.6287771166261774)}"
      ]
     },
     "execution_count": 64,
     "metadata": {},
     "output_type": "execute_result"
    }
   ],
   "source": [
    "res = t_test_features(food_crse_fusion,food_crse_indian,f_lst)\n",
    "res"
   ]
  },
  {
   "cell_type": "code",
   "execution_count": 89,
   "metadata": {},
   "outputs": [
    {
     "data": {
      "text/plain": [
       "{'Happiness_Level': np.float64(0.8475792953458055),\n",
       " 'Sugar': np.float64(0.0059095115126605235),\n",
       " 'Salt': np.float64(5.512573370762072e-06),\n",
       " 'Healthy': np.float64(0.1781992830930098),\n",
       " 'Processing_level': np.float64(3.1994738348061325e-06)}"
      ]
     },
     "execution_count": 89,
     "metadata": {},
     "output_type": "execute_result"
    }
   ],
   "source": [
    "res = t_test_features(food_crse_Italian,food_crse_indian,f_lst)\n",
    "res"
   ]
  },
  {
   "cell_type": "code",
   "execution_count": 90,
   "metadata": {},
   "outputs": [
    {
     "data": {
      "text/plain": [
       "{'Happiness_Level': np.float64(0.3816913824253566),\n",
       " 'Sugar': np.float64(0.21141473968454622),\n",
       " 'Salt': np.float64(0.04632000103069966),\n",
       " 'Healthy': np.float64(5.147404125830818e-05),\n",
       " 'Processing_level': np.float64(0.0018592877484584418)}"
      ]
     },
     "execution_count": 90,
     "metadata": {},
     "output_type": "execute_result"
    }
   ],
   "source": [
    "res = t_test_features(food_crse_Italian,food_crse_fusion,f_lst)\n",
    "res"
   ]
  },
  {
   "cell_type": "markdown",
   "metadata": {},
   "source": [
    "# chi square and chi contingency test"
   ]
  },
  {
   "cell_type": "markdown",
   "metadata": {},
   "source": [
    "### Data Prep"
   ]
  },
  {
   "cell_type": "code",
   "execution_count": 65,
   "metadata": {},
   "outputs": [],
   "source": [
    "f_lst = ['Happiness_Level', 'Sugar', 'Salt', 'Healthy', 'Processing_level']\n",
    "cuisines = ['Fusion', 'Indian', 'Italian', 'Thai', 'German', 'American', 'Japanese', 'Mexican']\n",
    "happy_food = df[df['Cuisine'].isin(cuisines)]"
   ]
  },
  {
   "cell_type": "markdown",
   "metadata": {},
   "source": [
    "### Validate relationships"
   ]
  },
  {
   "cell_type": "code",
   "execution_count": 66,
   "metadata": {},
   "outputs": [
    {
     "name": "stdout",
     "output_type": "stream",
     "text": [
      "Data Table for Sugar:\n",
      " Sugar            0    1   2   3\n",
      "Happiness_Level                \n",
      "2                1    1   0   0\n",
      "3                0    6   5   1\n",
      "4                1  150  16  13\n",
      "5                0    5   9   9 \n",
      "\n",
      "Chi-squared Test for Sugar:\n",
      "  Chi-squared Statistic: 105.14\n",
      "  P-value: 1.43e-18\n",
      "  Degrees of Freedom: 9\n",
      "----------------------------------------\n",
      "Data Table for Salt:\n",
      " Salt             0   1    2\n",
      "Happiness_Level            \n",
      "2                1   0    1\n",
      "3                2   7    3\n",
      "4                2  36  142\n",
      "5                4  15    4 \n",
      "\n",
      "Chi-squared Test for Salt:\n",
      "  Chi-squared Statistic: 64.09\n",
      "  P-value: 6.61e-12\n",
      "  Degrees of Freedom: 6\n",
      "----------------------------------------\n",
      "Data Table for Healthy:\n",
      " Healthy           0    1   2\n",
      "Happiness_Level             \n",
      "2                 2    0   0\n",
      "3                 2    5   5\n",
      "4                32  106  42\n",
      "5                 8    9   6 \n",
      "\n",
      "Chi-squared Test for Healthy:\n",
      "  Chi-squared Statistic: 14.37\n",
      "  P-value: 2.58e-02\n",
      "  Degrees of Freedom: 6\n",
      "----------------------------------------\n",
      "Data Table for Processing_level:\n",
      " Processing_level  0    1   2\n",
      "Happiness_Level             \n",
      "2                 1    0   1\n",
      "3                 0    7   5\n",
      "4                 0  143  37\n",
      "5                 0    9  14 \n",
      "\n",
      "Chi-squared Test for Processing_level:\n",
      "  Chi-squared Statistic: 128.16\n",
      "  P-value: 3.14e-25\n",
      "  Degrees of Freedom: 6\n",
      "----------------------------------------\n"
     ]
    }
   ],
   "source": [
    "def perform_and_print_chi2(data_name, contingency_table):\n",
    "    \"\"\"\n",
    "    Performs a Chi-squared test and prints the results in a readable format.\n",
    "    \"\"\"\n",
    "    try:\n",
    "        chi2_result = st.chi2_contingency(np.array(contingency_table))\n",
    "        statistic, p_value, dof, expected_freq = chi2_result\n",
    "\n",
    "        print(f\"Chi-squared Test for {data_name}:\")\n",
    "        print(f\"  Chi-squared Statistic: {statistic:.2f}\")\n",
    "        print(f\"  P-value: {p_value:.2e}\")  # Scientific notation for small values\n",
    "        print(f\"  Degrees of Freedom: {dof}\")\n",
    "        # print(\"  Expected frequencies:\\n\", expected_freq)\n",
    "        print(\"-\" * 40) \n",
    "    except ValueError as e:\n",
    "        print(f\"Error in chi-square test for {data_name}: {e}\")\n",
    "\n",
    "# --- Run the Chi-squared tests and print results ---\n",
    "# perform_and_print_chi2(\"Sugar\", sugar_chi_df)\n",
    "\n",
    "def analyze_feature_relation(df, index_feature, column_feature):\n",
    "    \"\"\"\n",
    "    Creates a table based on specified features and performs a Chi-squared test.\n",
    "    \"\"\"\n",
    "    pivot_df = df.pivot_table(\n",
    "        index=index_feature,\n",
    "        columns=column_feature,\n",
    "        values='name',\n",
    "        aggfunc='count',\n",
    "        fill_value=0\n",
    "    )\n",
    "    print(f\"Data Table for {column_feature}:\\n\", pivot_df, \"\\n\")\n",
    "    perform_and_print_chi2(column_feature, pivot_df)\n",
    "\n",
    "feature_pairs = [\n",
    "    ('Happiness_Level', 'Sugar'),\n",
    "    ('Happiness_Level', 'Salt'),\n",
    "    ('Happiness_Level', 'Healthy'),\n",
    "    ('Happiness_Level', 'Processing_level')\n",
    "]\n",
    "\n",
    "# --- Run the analysis for each pair of features ---\n",
    "for index_feature, column_feature in feature_pairs:\n",
    "    analyze_feature_relation(happy_food, index_feature, column_feature)\n",
    "\n",
    "# res_salt = st.chi2_contingency(np.array(salt_chi_df))"
   ]
  },
  {
   "cell_type": "markdown",
   "metadata": {},
   "source": [
    "#### What Does This Mean?\n",
    "\n",
    "Strong Evidence of Association: The extremely low p-value provides very strong evidence to reject the null hypothesis. This means there is a statistically significant association between Happiness, Sugar and Salt.\n",
    "Happiness, Sugar and Salt Are NOT Independent:  data clearly suggests that the level of happiness is related to the level of sugar and salt. This isn't due to random chance.\n",
    "\n",
    "Happiness, Healthy Are NOT Independent: data clearly suggests that the level of happiness is related to the level of Healthy, but not as strong as with salt.\n",
    "\n",
    "Happiness, Processing_level Are NOT Independent:: probability of observing the p-value if there were no real association between happiness and processing level. A very small p-value is a strong indication against the null hypothesis i.e. highly significant association between happiness and processing level"
   ]
  },
  {
   "cell_type": "code",
   "execution_count": 96,
   "metadata": {},
   "outputs": [
    {
     "data": {
      "text/plain": [
       "Meal_Course\n",
       "Main Course    140\n",
       "Dessert         30\n",
       "Drink           25\n",
       "Snack           13\n",
       "Starter          5\n",
       "Side Dish        3\n",
       "Breakfast        1\n",
       "Name: count, dtype: int64"
      ]
     },
     "execution_count": 96,
     "metadata": {},
     "output_type": "execute_result"
    }
   ],
   "source": [
    "cuisines = ['Fusion', 'Indian', 'Italian', 'Thai', 'German', 'American', 'Japanese', 'Mexican']\n",
    "happy_food = df[df['Cuisine'].isin(cuisines)]\n",
    "happy_food['Meal_Course'].value_counts()"
   ]
  },
  {
   "cell_type": "code",
   "execution_count": 97,
   "metadata": {},
   "outputs": [
    {
     "name": "stdout",
     "output_type": "stream",
     "text": [
      "Data Table for Sugar:\n",
      " Sugar        0    1   2   3\n",
      "Meal_Course                \n",
      "Breakfast    0    1   0   0\n",
      "Dessert      0    0   9  21\n",
      "Drink        1    8  14   2\n",
      "Main Course  0  136   4   0\n",
      "Side Dish    1    2   0   0\n",
      "Snack        0   10   3   0\n",
      "Starter      0    5   0   0 \n",
      "\n",
      "Chi-squared Test for Sugar:\n",
      "  Chi-squared Statistic: 246.31\n",
      "  P-value: 4.60e-42\n",
      "  Degrees of Freedom: 18\n",
      "----------------------------------------\n",
      "Data Table for Salt:\n",
      " Salt         0   1    2\n",
      "Meal_Course            \n",
      "Breakfast    0   0    1\n",
      "Dessert      3  27    0\n",
      "Drink        6  19    0\n",
      "Main Course  0   9  131\n",
      "Side Dish    0   0    3\n",
      "Snack        0   3   10\n",
      "Starter      0   0    5 \n",
      "\n",
      "Chi-squared Test for Salt:\n",
      "  Chi-squared Statistic: 176.13\n",
      "  P-value: 2.66e-31\n",
      "  Degrees of Freedom: 12\n",
      "----------------------------------------\n",
      "Data Table for Healthy:\n",
      " Healthy       0   1   2\n",
      "Meal_Course            \n",
      "Breakfast     0   1   0\n",
      "Dessert      21   4   5\n",
      "Drink         4  11  10\n",
      "Main Course  11  94  35\n",
      "Side Dish     0   1   2\n",
      "Snack         6   7   0\n",
      "Starter       2   2   1 \n",
      "\n",
      "Chi-squared Test for Healthy:\n",
      "  Chi-squared Statistic: 76.93\n",
      "  P-value: 1.58e-11\n",
      "  Degrees of Freedom: 12\n",
      "----------------------------------------\n",
      "Data Table for Happiness_Level:\n",
      " Happiness_Level  2  3    4   5\n",
      "Meal_Course                   \n",
      "Breakfast        0  0    1   0\n",
      "Dessert          0  0   14  16\n",
      "Drink            1  9   13   2\n",
      "Main Course      1  2  132   5\n",
      "Side Dish        0  1    2   0\n",
      "Snack            0  0   13   0\n",
      "Starter          0  0    5   0 \n",
      "\n",
      "Chi-squared Test for Happiness_Level:\n",
      "  Chi-squared Statistic: 127.53\n",
      "  P-value: 1.57e-18\n",
      "  Degrees of Freedom: 18\n",
      "----------------------------------------\n",
      "Data Table for Processing_level:\n",
      " Processing_level  0    1   2\n",
      "Meal_Course                 \n",
      "Breakfast         0    1   0\n",
      "Dessert           0    6  24\n",
      "Drink             1   12  12\n",
      "Main Course       0  124  16\n",
      "Side Dish         0    3   0\n",
      "Snack             0    9   4\n",
      "Starter           0    4   1 \n",
      "\n",
      "Chi-squared Test for Processing_level:\n",
      "  Chi-squared Statistic: 76.83\n",
      "  P-value: 1.65e-11\n",
      "  Degrees of Freedom: 12\n",
      "----------------------------------------\n"
     ]
    }
   ],
   "source": [
    "feature_pairs = [\n",
    "    ('Meal_Course', 'Sugar'),\n",
    "    ('Meal_Course', 'Salt'),\n",
    "    ('Meal_Course', 'Healthy'),\n",
    "    ('Meal_Course', 'Happiness_Level'),\n",
    "    ('Meal_Course', 'Processing_level')\n",
    "]\n",
    "\n",
    "# --- Run the analysis for each pair of features ---\n",
    "for index_feature, column_feature in feature_pairs:\n",
    "    analyze_feature_relation(happy_food, index_feature, column_feature)"
   ]
  },
  {
   "cell_type": "markdown",
   "metadata": {},
   "source": [
    "#### ANOVA test on happiness level for few cuisine"
   ]
  },
  {
   "cell_type": "code",
   "execution_count": 99,
   "metadata": {},
   "outputs": [
    {
     "name": "stdout",
     "output_type": "stream",
     "text": [
      "24.49415354291875 1.7339749710226944e-10\n",
      "  Conclusion: Reject the null hypothesis with p value 1.7339749710226944e-10. There is a significant difference in mean Happiness_Level across Cuisines.\n"
     ]
    }
   ],
   "source": [
    "main_course_happiness = df[df['Meal_Course'] == 'Main Course']['Happiness_Level'].dropna()\n",
    "dessert_happiness = df[df['Meal_Course'] == 'Dessert']['Happiness_Level'].dropna()\n",
    "drink_happiness = df[df['Meal_Course'] == 'Drink']['Happiness_Level'].dropna()\n",
    "\n",
    "f_statistic, p_value = st.f_oneway(\n",
    "        main_course_happiness,\n",
    "        dessert_happiness,\n",
    "        drink_happiness\n",
    "    )\n",
    "print(f_statistic, p_value)\n",
    "alpha = 0.05\n",
    "if p_value < alpha:\n",
    "    print(f\"  Conclusion: Reject the null hypothesis with p value {p_value}. There is a significant difference in mean Happiness_Level across Cuisines.\")\n",
    "else:\n",
    "    print(f\"  Conclusion: Fail to reject the null hypothesis with p value {p_value}. There is no significant difference in mean Happiness_Level across Cuisines.\")"
   ]
  },
  {
   "cell_type": "markdown",
   "metadata": {},
   "source": [
    "### Ignore: Wrong relationship testing"
   ]
  },
  {
   "cell_type": "markdown",
   "metadata": {},
   "source": [
    "#### H0: Happness is not related to processing level"
   ]
  },
  {
   "cell_type": "code",
   "execution_count": 68,
   "metadata": {},
   "outputs": [
    {
     "data": {
      "text/plain": [
       "TtestResult(statistic=np.float64(73.9427175522059), pvalue=np.float64(5.7395574138600655e-199), df=np.int64(310))"
      ]
     },
     "execution_count": 68,
     "metadata": {},
     "output_type": "execute_result"
    }
   ],
   "source": [
    "st.ttest_rel(df['Happiness_Level'], df['Processing_level'])\n"
   ]
  },
  {
   "cell_type": "markdown",
   "metadata": {},
   "source": [
    "#### Happiness is related to processing level of food"
   ]
  },
  {
   "cell_type": "markdown",
   "metadata": {},
   "source": [
    "#### H0 : Happiness is not related to sugar"
   ]
  },
  {
   "cell_type": "code",
   "execution_count": 69,
   "metadata": {},
   "outputs": [
    {
     "name": "stdout",
     "output_type": "stream",
     "text": [
      "                                name     size       date  Cuisine  \\\n",
      "197  Food/PXL_20240719_173354236.jpg  1890695 2024-07-19  Italian   \n",
      "231  Food/PXL_20221228_111532739.jpg  2805508 2022-12-28   Fusion   \n",
      "237  Food/PXL_20250102_110121805.jpg  2203035 2025-01-02   Fusion   \n",
      "256  Food/PXL_20240329_113229444.jpg  2202127 2024-03-29   Indian   \n",
      "281  Food/PXL_20250209_133651581.jpg  2022228 2025-02-09  Chinese   \n",
      "\n",
      "     Happiness_Level  Meal_Course  Sugar  Salt  Healthy  Processing_level  \\\n",
      "197                4  Main Course      1     2        0                 2   \n",
      "231                4  Main Course      1     2        1                 1   \n",
      "237                4  Main Course      1     2        1                 1   \n",
      "256                4  Main Course      1     2        1                 1   \n",
      "281                3        Drink      0     0        2                 1   \n",
      "\n",
      "    Preparation_Method Dominant_Color  Food_Diversity image_month  \n",
      "197              Baked          Brown               1     2024-07  \n",
      "231       Fried, Baked          Brown               3     2022-12  \n",
      "237              Fried          Brown               3     2025-01  \n",
      "256              Fried          Brown               2     2024-03  \n",
      "281             Boiled    Transparent               1     2025-02  \n"
     ]
    },
    {
     "data": {
      "text/plain": [
       "TtestResult(statistic=np.float64(49.90009025434486), pvalue=np.float64(6.398083242902239e-116), df=np.int64(203))"
      ]
     },
     "execution_count": 69,
     "metadata": {},
     "output_type": "execute_result"
    }
   ],
   "source": [
    "df_datanotna = df[df['date'].notna()]\n",
    "print(df_datanotna.sample(5))\n",
    "st.ttest_rel(df_datanotna['Happiness_Level'], df_datanotna['Sugar'])\n"
   ]
  },
  {
   "cell_type": "code",
   "execution_count": 70,
   "metadata": {},
   "outputs": [],
   "source": [
    "def t_test_rel_features(s1,  features):\n",
    "    \"\"\"Test means of a feature set of two samples\n",
    "    \n",
    "    Args:\n",
    "        s1 (dataframe): dataframe\n",
    "        features (list): an array of features to test\n",
    "    \n",
    "    Returns:\n",
    "        dict: a dictionary of t-test scores for each feature where the feature name is the key and the p-value is the value\n",
    "    \"\"\"\n",
    "    results = {}\n",
    "    for f1 in features:\n",
    "        for f2 in features:\n",
    "            if f1!=f2:\n",
    "                t_stat, p_val = st.ttest_rel(s1[f1], s1[f2])\n",
    "                f=f1+\":\"+f2\n",
    "                results[f] = p_val\n",
    "    \n",
    "    return results"
   ]
  },
  {
   "cell_type": "code",
   "execution_count": 71,
   "metadata": {},
   "outputs": [
    {
     "name": "stdout",
     "output_type": "stream",
     "text": [
      "related features within dataset are Sugar:Salt with p-value 0.27967839352321594\n",
      "related features within dataset are Salt:Sugar with p-value 0.27967839352321594\n"
     ]
    }
   ],
   "source": [
    "f_lst = ['Happiness_Level', 'Sugar', 'Salt', 'Healthy', 'Processing_level']\n",
    "\n",
    "res_rel = t_test_rel_features(df_datanotna,f_lst)\n",
    "\n",
    "for k,v in res_rel.items():\n",
    "    if v>0.04:\n",
    "        print(f\"related features within dataset are {k} with p-value {v}\")\n"
   ]
  },
  {
   "cell_type": "markdown",
   "metadata": {},
   "source": [
    "#### Lets test for only Meal_Course dishes"
   ]
  },
  {
   "cell_type": "code",
   "execution_count": 72,
   "metadata": {},
   "outputs": [
    {
     "name": "stdout",
     "output_type": "stream",
     "text": [
      "related features within dataset are Healthy:Processing_level with p-value 0.05138641776155715\n",
      "related features within dataset are Processing_level:Healthy with p-value 0.05138641776155715\n"
     ]
    }
   ],
   "source": [
    "df_it = df[df['Meal_Course']=='Drink']\n",
    "\n",
    "f_lst = ['Happiness_Level', 'Sugar', 'Salt', 'Healthy', 'Processing_level']\n",
    "\n",
    "res_rel = t_test_rel_features(df_it,f_lst)\n",
    "\n",
    "for k,v in res_rel.items():\n",
    "    if v>0.04:\n",
    "        print(f\"related features within dataset are {k} with p-value {v}\")"
   ]
  },
  {
   "cell_type": "markdown",
   "metadata": {},
   "source": [
    "#### Is dessert related to sugar/salt/happiness\n",
    "\n",
    "H0: Happiness in dessert is not related to Sugar"
   ]
  },
  {
   "cell_type": "code",
   "execution_count": 73,
   "metadata": {},
   "outputs": [],
   "source": [
    "df_desse = df[df['Meal_Course']=='Dessert']\n",
    "\n",
    "f_lst = ['Happiness_Level', 'Sugar', 'Salt', 'Healthy', 'Processing_level']\n",
    "\n",
    "res_rel = t_test_rel_features(df_desse,f_lst)\n",
    "\n",
    "for k,v in res_rel.items():\n",
    "    if v>0.04:\n",
    "        print(f\"related features within dataset are {k} with p-value {v}\")"
   ]
  },
  {
   "cell_type": "code",
   "execution_count": 74,
   "metadata": {},
   "outputs": [
    {
     "data": {
      "text/html": [
       "<div>\n",
       "<style scoped>\n",
       "    .dataframe tbody tr th:only-of-type {\n",
       "        vertical-align: middle;\n",
       "    }\n",
       "\n",
       "    .dataframe tbody tr th {\n",
       "        vertical-align: top;\n",
       "    }\n",
       "\n",
       "    .dataframe thead th {\n",
       "        text-align: right;\n",
       "    }\n",
       "</style>\n",
       "<table border=\"1\" class=\"dataframe\">\n",
       "  <thead>\n",
       "    <tr style=\"text-align: right;\">\n",
       "      <th></th>\n",
       "      <th>name</th>\n",
       "      <th>size</th>\n",
       "      <th>date</th>\n",
       "      <th>Cuisine</th>\n",
       "      <th>Happiness_Level</th>\n",
       "      <th>Meal_Course</th>\n",
       "      <th>Sugar</th>\n",
       "      <th>Salt</th>\n",
       "      <th>Healthy</th>\n",
       "      <th>Processing_level</th>\n",
       "      <th>Preparation_Method</th>\n",
       "      <th>Dominant_Color</th>\n",
       "      <th>Food_Diversity</th>\n",
       "      <th>image_month</th>\n",
       "    </tr>\n",
       "  </thead>\n",
       "  <tbody>\n",
       "    <tr>\n",
       "      <th>266</th>\n",
       "      <td>Food/PXL_20240201_092137435~2.jpg</td>\n",
       "      <td>1983375</td>\n",
       "      <td>2024-02-01</td>\n",
       "      <td>Italian</td>\n",
       "      <td>5</td>\n",
       "      <td>Dessert</td>\n",
       "      <td>3</td>\n",
       "      <td>1</td>\n",
       "      <td>0</td>\n",
       "      <td>2</td>\n",
       "      <td>Baked</td>\n",
       "      <td>Brown</td>\n",
       "      <td>1</td>\n",
       "      <td>2024-02</td>\n",
       "    </tr>\n",
       "    <tr>\n",
       "      <th>108</th>\n",
       "      <td>Food/image(59).jpg</td>\n",
       "      <td>3027369</td>\n",
       "      <td>NaT</td>\n",
       "      <td>Fusion</td>\n",
       "      <td>5</td>\n",
       "      <td>Dessert</td>\n",
       "      <td>2</td>\n",
       "      <td>1</td>\n",
       "      <td>2</td>\n",
       "      <td>1</td>\n",
       "      <td>Unknown</td>\n",
       "      <td>White</td>\n",
       "      <td>2</td>\n",
       "      <td>NaN</td>\n",
       "    </tr>\n",
       "    <tr>\n",
       "      <th>27</th>\n",
       "      <td>Food/image(12).jpg</td>\n",
       "      <td>1959360</td>\n",
       "      <td>NaT</td>\n",
       "      <td>Unknown</td>\n",
       "      <td>5</td>\n",
       "      <td>Dessert</td>\n",
       "      <td>3</td>\n",
       "      <td>1</td>\n",
       "      <td>0</td>\n",
       "      <td>2</td>\n",
       "      <td>Unknown</td>\n",
       "      <td>Yellow</td>\n",
       "      <td>1</td>\n",
       "      <td>NaN</td>\n",
       "    </tr>\n",
       "    <tr>\n",
       "      <th>62</th>\n",
       "      <td>Food/PXL_20241231_140113873.MP.jpg</td>\n",
       "      <td>4987029</td>\n",
       "      <td>2024-12-31</td>\n",
       "      <td>Indian</td>\n",
       "      <td>5</td>\n",
       "      <td>Dessert</td>\n",
       "      <td>3</td>\n",
       "      <td>0</td>\n",
       "      <td>1</td>\n",
       "      <td>1</td>\n",
       "      <td>Boiled</td>\n",
       "      <td>Orange</td>\n",
       "      <td>1</td>\n",
       "      <td>2024-12</td>\n",
       "    </tr>\n",
       "    <tr>\n",
       "      <th>305</th>\n",
       "      <td>Food/PXL_20230823_204211650.jpg</td>\n",
       "      <td>2180192</td>\n",
       "      <td>2023-08-23</td>\n",
       "      <td>Unknown</td>\n",
       "      <td>5</td>\n",
       "      <td>Dessert</td>\n",
       "      <td>3</td>\n",
       "      <td>1</td>\n",
       "      <td>0</td>\n",
       "      <td>2</td>\n",
       "      <td>Unknown</td>\n",
       "      <td>Pink</td>\n",
       "      <td>1</td>\n",
       "      <td>2023-08</td>\n",
       "    </tr>\n",
       "  </tbody>\n",
       "</table>\n",
       "</div>"
      ],
      "text/plain": [
       "                                   name     size       date  Cuisine  \\\n",
       "266   Food/PXL_20240201_092137435~2.jpg  1983375 2024-02-01  Italian   \n",
       "108                  Food/image(59).jpg  3027369        NaT   Fusion   \n",
       "27                   Food/image(12).jpg  1959360        NaT  Unknown   \n",
       "62   Food/PXL_20241231_140113873.MP.jpg  4987029 2024-12-31   Indian   \n",
       "305     Food/PXL_20230823_204211650.jpg  2180192 2023-08-23  Unknown   \n",
       "\n",
       "     Happiness_Level Meal_Course  Sugar  Salt  Healthy  Processing_level  \\\n",
       "266                5     Dessert      3     1        0                 2   \n",
       "108                5     Dessert      2     1        2                 1   \n",
       "27                 5     Dessert      3     1        0                 2   \n",
       "62                 5     Dessert      3     0        1                 1   \n",
       "305                5     Dessert      3     1        0                 2   \n",
       "\n",
       "    Preparation_Method Dominant_Color  Food_Diversity image_month  \n",
       "266              Baked          Brown               1     2024-02  \n",
       "108            Unknown          White               2         NaN  \n",
       "27             Unknown         Yellow               1         NaN  \n",
       "62              Boiled         Orange               1     2024-12  \n",
       "305            Unknown           Pink               1     2023-08  "
      ]
     },
     "execution_count": 74,
     "metadata": {},
     "output_type": "execute_result"
    }
   ],
   "source": [
    "df_desse.sample(5)"
   ]
  },
  {
   "cell_type": "markdown",
   "metadata": {},
   "source": [
    "#### Null hypothesis stays and there is no relation of Desserts with happiness/Sugar/Salt"
   ]
  },
  {
   "cell_type": "code",
   "execution_count": 75,
   "metadata": {},
   "outputs": [],
   "source": [
    "fus_food = df[df['Cuisine']=='Fusion']\n",
    "ind_food = df[df['Cuisine']=='Indian']\n",
    "ity_food = df[df['Cuisine']=='Italian']\n",
    "oth_food = df.loc[(df['Cuisine']=='Thai') | (df['Cuisine']=='German')| (df['Cuisine']=='American') | (df['Cuisine']=='Japanese')| (df['Cuisine']=='Mexican')]"
   ]
  },
  {
   "cell_type": "code",
   "execution_count": 76,
   "metadata": {},
   "outputs": [
    {
     "data": {
      "text/plain": [
       "{'Happiness_Level': np.float64(0.20775180166121093),\n",
       " 'Sugar': np.float64(0.34302454194036813),\n",
       " 'Salt': np.float64(0.046241135549500705),\n",
       " 'Healthy': np.float64(6.829220051709067e-05),\n",
       " 'Processing_level': np.float64(0.6287771166261774)}"
      ]
     },
     "execution_count": 76,
     "metadata": {},
     "output_type": "execute_result"
    }
   ],
   "source": [
    "f_lst = ['Happiness_Level', 'Sugar', 'Salt', 'Healthy', 'Processing_level']\n",
    "\n",
    "res = t_test_features(fus_food,ind_food,f_lst)\n",
    "res\n"
   ]
  },
  {
   "cell_type": "code",
   "execution_count": 77,
   "metadata": {},
   "outputs": [
    {
     "data": {
      "text/plain": [
       "{'Happiness_Level': np.float64(0.3816913824253566),\n",
       " 'Sugar': np.float64(0.21141473968454622),\n",
       " 'Salt': np.float64(0.04632000103069966),\n",
       " 'Healthy': np.float64(5.147404125830818e-05),\n",
       " 'Processing_level': np.float64(0.0018592877484584418)}"
      ]
     },
     "execution_count": 77,
     "metadata": {},
     "output_type": "execute_result"
    }
   ],
   "source": [
    "res = t_test_features(fus_food,ity_food,f_lst)\n",
    "res"
   ]
  },
  {
   "cell_type": "code",
   "execution_count": 78,
   "metadata": {},
   "outputs": [
    {
     "data": {
      "text/plain": [
       "{'Happiness_Level': np.float64(0.26484280989603937),\n",
       " 'Sugar': np.float64(0.20565009452090766),\n",
       " 'Salt': np.float64(0.13323977550167482),\n",
       " 'Healthy': np.float64(3.8472512427164056e-05),\n",
       " 'Processing_level': np.float64(0.003254062994258967)}"
      ]
     },
     "execution_count": 78,
     "metadata": {},
     "output_type": "execute_result"
    }
   ],
   "source": [
    "res = t_test_features(fus_food,oth_food,f_lst)\n",
    "res"
   ]
  },
  {
   "cell_type": "code",
   "execution_count": 79,
   "metadata": {},
   "outputs": [
    {
     "data": {
      "text/plain": [
       "{'Happiness_Level': np.float64(0.4872656913564608),\n",
       " 'Sugar': np.float64(0.006467791699839403),\n",
       " 'Salt': np.float64(0.00017723709118319577),\n",
       " 'Healthy': np.float64(0.06822082450518487),\n",
       " 'Processing_level': np.float64(8.439293169212436e-06)}"
      ]
     },
     "execution_count": 79,
     "metadata": {},
     "output_type": "execute_result"
    }
   ],
   "source": [
    "res = t_test_features(ind_food,oth_food,f_lst)\n",
    "res"
   ]
  },
  {
   "cell_type": "code",
   "execution_count": 80,
   "metadata": {},
   "outputs": [
    {
     "data": {
      "text/plain": [
       "{'Happiness_Level': np.float64(0.7271351368114876),\n",
       " 'Sugar': np.float64(0.8906441005896278),\n",
       " 'Salt': np.float64(0.8717053070054425),\n",
       " 'Healthy': np.float64(0.6523014820402091),\n",
       " 'Processing_level': np.float64(1.0)}"
      ]
     },
     "execution_count": 80,
     "metadata": {},
     "output_type": "execute_result"
    }
   ],
   "source": [
    "res = t_test_features(ity_food,oth_food,f_lst)\n",
    "res"
   ]
  },
  {
   "cell_type": "markdown",
   "metadata": {},
   "source": [
    "### Null hypothesis fails \n",
    "Italian, german, american, chineses, mesican foods are highly related with happiness levels, sugar and salt\n",
    "\n",
    "### Fusion, Indian, Italian, Others are highly correlated with happiness and sugar\n",
    "\n",
    "### "
   ]
  },
  {
   "cell_type": "code",
   "execution_count": 81,
   "metadata": {},
   "outputs": [
    {
     "data": {
      "text/plain": [
       "{'Happiness_Level': np.float64(0.2604969033207468),\n",
       " 'Sugar': np.float64(5.126423265455729e-05),\n",
       " 'Salt': np.float64(6.389219444635156e-11),\n",
       " 'Healthy': np.float64(0.24300084035847863),\n",
       " 'Processing_level': np.float64(1.2168877989392894e-05)}"
      ]
     },
     "execution_count": 81,
     "metadata": {},
     "output_type": "execute_result"
    }
   ],
   "source": [
    "cuisines = ['Fusion', 'Indian', 'Italian', 'Thai', 'German', 'American', 'Japanese', 'Mexican']\n",
    "happy_food = df[df['Cuisine'].isin(cuisines)]\n",
    "oth_food =df[~df['Cuisine'].isin(cuisines)]\n",
    "\n",
    "res = t_test_features(happy_food,oth_food,f_lst)\n",
    "res"
   ]
  },
  {
   "cell_type": "markdown",
   "metadata": {},
   "source": [
    "#### Other categories of food are only related to happiness and no other relation"
   ]
  },
  {
   "cell_type": "code",
   "execution_count": 82,
   "metadata": {},
   "outputs": [],
   "source": [
    "cuisines = ['Fusion', 'Indian', 'Italian', 'Thai', 'German', 'American', 'Japanese', 'Mexican']\n",
    "happy_drink = df[df['Cuisine'].isin(cuisines) & (df['Meal_Course']=='Drink')]\n",
    "happy_dessert = df[df['Cuisine'].isin(cuisines) & (df['Meal_Course']=='Dessert')]\n",
    "happy_food = df[df['Cuisine'].isin(cuisines) & (df['Meal_Course']=='Main Course')]"
   ]
  },
  {
   "cell_type": "code",
   "execution_count": 83,
   "metadata": {},
   "outputs": [
    {
     "name": "stdout",
     "output_type": "stream",
     "text": [
      "related features within dataset are Sugar:Healthy with p-value 0.0694431909615676\n",
      "related features within dataset are Sugar:Processing_level with p-value 0.05587675230714424\n",
      "related features within dataset are Healthy:Sugar with p-value 0.0694431909615676\n",
      "related features within dataset are Healthy:Processing_level with p-value 0.36375613199600754\n",
      "related features within dataset are Processing_level:Sugar with p-value 0.05587675230714424\n",
      "related features within dataset are Processing_level:Healthy with p-value 0.36375613199600754\n"
     ]
    }
   ],
   "source": [
    "f_lst = ['Happiness_Level', 'Sugar', 'Salt', 'Healthy', 'Processing_level']\n",
    "\n",
    "res_rel = t_test_rel_features(happy_drink,f_lst)\n",
    "for k,v in res_rel.items():\n",
    "    if v>0.05:\n",
    "        print(f\"related features within dataset are {k} with p-value {v}\")"
   ]
  },
  {
   "cell_type": "markdown",
   "metadata": {},
   "source": [
    "#### All drink are related with Sugar, Healthy levels, Processing_level but not related to Happiness levels"
   ]
  },
  {
   "cell_type": "code",
   "execution_count": 84,
   "metadata": {},
   "outputs": [],
   "source": [
    "f_lst = ['Happiness_Level', 'Sugar', 'Salt', 'Healthy', 'Processing_level']\n",
    "res_rel = t_test_rel_features(happy_dessert,f_lst)\n",
    "for k,v in res_rel.items():\n",
    "    if v>0.05:\n",
    "        print(f\"related features within dataset are {k} with p-value {v}\")"
   ]
  }
 ],
 "metadata": {
  "kernelspec": {
   "display_name": "3.9.2",
   "language": "python",
   "name": "python3"
  },
  "language_info": {
   "codemirror_mode": {
    "name": "ipython",
    "version": 3
   },
   "file_extension": ".py",
   "mimetype": "text/x-python",
   "name": "python",
   "nbconvert_exporter": "python",
   "pygments_lexer": "ipython3",
   "version": "3.9.2"
  }
 },
 "nbformat": 4,
 "nbformat_minor": 2
}
