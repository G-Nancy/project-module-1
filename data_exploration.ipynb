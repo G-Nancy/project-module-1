{
 "cells": [
  {
   "cell_type": "code",
   "execution_count": 11,
   "metadata": {},
   "outputs": [],
   "source": [
    "import pandas as pd\n",
    "import matplotlib.pyplot as plt\n",
    "import seaborn as sns\n",
    "\n",
    "import json"
   ]
  },
  {
   "cell_type": "code",
   "execution_count": 12,
   "metadata": {},
   "outputs": [],
   "source": [
    "def read_jsonl_to_dataframe(filepath):\n",
    "    \"\"\" Reads a JSON Lines file into a Pandas DataFrame.\"\"\"\n",
    "    try:\n",
    "        df = pd.read_json(filepath, lines=True, convert_dates=False)\n",
    "        return df\n",
    "    except Exception as e:\n",
    "        print(f\"Error reading jsonl to dataframe: {e}\")\n",
    "        return None"
   ]
  },
  {
   "cell_type": "code",
   "execution_count": 13,
   "metadata": {},
   "outputs": [],
   "source": [
    "food_data = \"llm_output.json\"\n",
    "\n",
    "df = read_jsonl_to_dataframe(food_data)\n",
    "df['date'] = pd.to_datetime(df['date'], format='%Y%m%d')"
   ]
  },
  {
   "cell_type": "code",
   "execution_count": null,
   "metadata": {},
   "outputs": [
    {
     "name": "stdout",
     "output_type": "stream",
     "text": [
      "Index(['name', 'size', 'date', 'Cuisine', 'Happiness_Level', 'Meal_Course',\n",
      "       'Sugar', 'Salt', 'Healthy', 'Processing_level', 'Preparation_Method',\n",
      "       'Dominant_Color', 'Food_Diversity'],\n",
      "      dtype='object')\n"
     ]
    }
   ],
   "source": [
    "df.shape\n",
    "df.describe()\n",
    "print(df.columns)\n",
    "feature_lst = ['Cuisine', 'Happiness_Level', 'Meal_Course','Sugar', 'Salt', 'Healthy', 'Processing_level', 'Preparation_Method','Dominant_Color', 'Food_Diversity']\n",
    "\n",
    "def chk_unique_val(df,feature_lst):\n",
    "    for f in feature_lst:\n",
    "        # print(f\"feature name is {f} and unique values are :\\n {df[f].unique()}\")\n",
    "        print(f\"{f} Distribution:\\n\", df[f].value_counts())"
   ]
  },
  {
   "cell_type": "code",
   "execution_count": 15,
   "metadata": {},
   "outputs": [
    {
     "data": {
      "text/html": [
       "<div>\n",
       "<style scoped>\n",
       "    .dataframe tbody tr th:only-of-type {\n",
       "        vertical-align: middle;\n",
       "    }\n",
       "\n",
       "    .dataframe tbody tr th {\n",
       "        vertical-align: top;\n",
       "    }\n",
       "\n",
       "    .dataframe thead th {\n",
       "        text-align: right;\n",
       "    }\n",
       "</style>\n",
       "<table border=\"1\" class=\"dataframe\">\n",
       "  <thead>\n",
       "    <tr style=\"text-align: right;\">\n",
       "      <th></th>\n",
       "      <th>name</th>\n",
       "      <th>size</th>\n",
       "      <th>date</th>\n",
       "      <th>Cuisine</th>\n",
       "      <th>Happiness_Level</th>\n",
       "      <th>Meal_Course</th>\n",
       "      <th>Sugar</th>\n",
       "      <th>Salt</th>\n",
       "      <th>Healthy</th>\n",
       "      <th>Processing_level</th>\n",
       "      <th>Preparation_Method</th>\n",
       "      <th>Dominant_Color</th>\n",
       "      <th>Food_Diversity</th>\n",
       "    </tr>\n",
       "  </thead>\n",
       "  <tbody>\n",
       "    <tr>\n",
       "      <th>3</th>\n",
       "      <td>Food/image(1).jpg</td>\n",
       "      <td>3282700</td>\n",
       "      <td>NaT</td>\n",
       "      <td>Unknown</td>\n",
       "      <td>4</td>\n",
       "      <td>Dessert</td>\n",
       "      <td>High</td>\n",
       "      <td>Low</td>\n",
       "      <td>Unhealthy</td>\n",
       "      <td>Processed</td>\n",
       "      <td>Baked</td>\n",
       "      <td>Brown</td>\n",
       "      <td>Low</td>\n",
       "    </tr>\n",
       "    <tr>\n",
       "      <th>9</th>\n",
       "      <td>Food/image(73).jpg</td>\n",
       "      <td>1802271</td>\n",
       "      <td>NaT</td>\n",
       "      <td>Unknown</td>\n",
       "      <td>4</td>\n",
       "      <td>Drink</td>\n",
       "      <td>Medium</td>\n",
       "      <td>Low</td>\n",
       "      <td>No</td>\n",
       "      <td>Processed</td>\n",
       "      <td>Unknown</td>\n",
       "      <td>White</td>\n",
       "      <td>Low</td>\n",
       "    </tr>\n",
       "    <tr>\n",
       "      <th>27</th>\n",
       "      <td>Food/image(12).jpg</td>\n",
       "      <td>1959360</td>\n",
       "      <td>NaT</td>\n",
       "      <td>Unknown</td>\n",
       "      <td>5</td>\n",
       "      <td>Dessert</td>\n",
       "      <td>High</td>\n",
       "      <td>Low</td>\n",
       "      <td>No</td>\n",
       "      <td>Processed</td>\n",
       "      <td>Unknown</td>\n",
       "      <td>Yellow</td>\n",
       "      <td>Low</td>\n",
       "    </tr>\n",
       "    <tr>\n",
       "      <th>37</th>\n",
       "      <td>Food/image(28).jpg</td>\n",
       "      <td>2065896</td>\n",
       "      <td>NaT</td>\n",
       "      <td>Unknown</td>\n",
       "      <td>4</td>\n",
       "      <td>Dessert</td>\n",
       "      <td>High</td>\n",
       "      <td>Low</td>\n",
       "      <td>No</td>\n",
       "      <td>Processed</td>\n",
       "      <td>Baked</td>\n",
       "      <td>Brown</td>\n",
       "      <td>Low</td>\n",
       "    </tr>\n",
       "    <tr>\n",
       "      <th>39</th>\n",
       "      <td>Food/image(86).jpg</td>\n",
       "      <td>2574581</td>\n",
       "      <td>NaT</td>\n",
       "      <td>Unknown</td>\n",
       "      <td>4</td>\n",
       "      <td>Drink</td>\n",
       "      <td>Low</td>\n",
       "      <td>Low</td>\n",
       "      <td>healthy</td>\n",
       "      <td>Minimally Processed</td>\n",
       "      <td>Unknown</td>\n",
       "      <td>Brown</td>\n",
       "      <td>Low</td>\n",
       "    </tr>\n",
       "    <tr>\n",
       "      <th>...</th>\n",
       "      <td>...</td>\n",
       "      <td>...</td>\n",
       "      <td>...</td>\n",
       "      <td>...</td>\n",
       "      <td>...</td>\n",
       "      <td>...</td>\n",
       "      <td>...</td>\n",
       "      <td>...</td>\n",
       "      <td>...</td>\n",
       "      <td>...</td>\n",
       "      <td>...</td>\n",
       "      <td>...</td>\n",
       "      <td>...</td>\n",
       "    </tr>\n",
       "    <tr>\n",
       "      <th>288</th>\n",
       "      <td>Food/PXL_20221227_074034334.jpg</td>\n",
       "      <td>2643230</td>\n",
       "      <td>2022-12-27</td>\n",
       "      <td>Unknown</td>\n",
       "      <td>4</td>\n",
       "      <td>Main Course</td>\n",
       "      <td>Medium</td>\n",
       "      <td>Low</td>\n",
       "      <td>healthy</td>\n",
       "      <td>Minimally Processed</td>\n",
       "      <td>Baked</td>\n",
       "      <td>Brown</td>\n",
       "      <td>Medium</td>\n",
       "    </tr>\n",
       "    <tr>\n",
       "      <th>296</th>\n",
       "      <td>Food/PXL_20250206_000102197.jpg</td>\n",
       "      <td>1495472</td>\n",
       "      <td>2025-02-06</td>\n",
       "      <td>Unknown</td>\n",
       "      <td>4</td>\n",
       "      <td>Drink</td>\n",
       "      <td>Medium</td>\n",
       "      <td>Low</td>\n",
       "      <td>Unknown</td>\n",
       "      <td>Processed</td>\n",
       "      <td>Unknown</td>\n",
       "      <td>White</td>\n",
       "      <td>Low</td>\n",
       "    </tr>\n",
       "    <tr>\n",
       "      <th>299</th>\n",
       "      <td>Food/image.jpg</td>\n",
       "      <td>4616107</td>\n",
       "      <td>NaT</td>\n",
       "      <td>Unknown</td>\n",
       "      <td>4</td>\n",
       "      <td>Snack</td>\n",
       "      <td>Low</td>\n",
       "      <td>Low</td>\n",
       "      <td>Yes</td>\n",
       "      <td>Unprocessed</td>\n",
       "      <td>Raw</td>\n",
       "      <td>Green</td>\n",
       "      <td>Low</td>\n",
       "    </tr>\n",
       "    <tr>\n",
       "      <th>301</th>\n",
       "      <td>Food/image(100).jpg</td>\n",
       "      <td>1791787</td>\n",
       "      <td>NaT</td>\n",
       "      <td>Unknown</td>\n",
       "      <td>4</td>\n",
       "      <td>Drink</td>\n",
       "      <td>Medium</td>\n",
       "      <td>Low</td>\n",
       "      <td>Balanced</td>\n",
       "      <td>Processed</td>\n",
       "      <td>Unknown</td>\n",
       "      <td>Brown</td>\n",
       "      <td>Low</td>\n",
       "    </tr>\n",
       "    <tr>\n",
       "      <th>305</th>\n",
       "      <td>Food/PXL_20230823_204211650.jpg</td>\n",
       "      <td>2180192</td>\n",
       "      <td>2023-08-23</td>\n",
       "      <td>Unknown</td>\n",
       "      <td>5</td>\n",
       "      <td>Dessert</td>\n",
       "      <td>High</td>\n",
       "      <td>Low</td>\n",
       "      <td>No</td>\n",
       "      <td>Processed</td>\n",
       "      <td>Unknown</td>\n",
       "      <td>Pink</td>\n",
       "      <td>Low</td>\n",
       "    </tr>\n",
       "  </tbody>\n",
       "</table>\n",
       "<p>68 rows × 13 columns</p>\n",
       "</div>"
      ],
      "text/plain": [
       "                                name     size       date  Cuisine  \\\n",
       "3                  Food/image(1).jpg  3282700        NaT  Unknown   \n",
       "9                 Food/image(73).jpg  1802271        NaT  Unknown   \n",
       "27                Food/image(12).jpg  1959360        NaT  Unknown   \n",
       "37                Food/image(28).jpg  2065896        NaT  Unknown   \n",
       "39                Food/image(86).jpg  2574581        NaT  Unknown   \n",
       "..                               ...      ...        ...      ...   \n",
       "288  Food/PXL_20221227_074034334.jpg  2643230 2022-12-27  Unknown   \n",
       "296  Food/PXL_20250206_000102197.jpg  1495472 2025-02-06  Unknown   \n",
       "299                   Food/image.jpg  4616107        NaT  Unknown   \n",
       "301              Food/image(100).jpg  1791787        NaT  Unknown   \n",
       "305  Food/PXL_20230823_204211650.jpg  2180192 2023-08-23  Unknown   \n",
       "\n",
       "     Happiness_Level  Meal_Course   Sugar Salt    Healthy  \\\n",
       "3                  4      Dessert    High  Low  Unhealthy   \n",
       "9                  4        Drink  Medium  Low         No   \n",
       "27                 5      Dessert    High  Low         No   \n",
       "37                 4      Dessert    High  Low         No   \n",
       "39                 4        Drink     Low  Low    healthy   \n",
       "..               ...          ...     ...  ...        ...   \n",
       "288                4  Main Course  Medium  Low    healthy   \n",
       "296                4        Drink  Medium  Low    Unknown   \n",
       "299                4        Snack     Low  Low        Yes   \n",
       "301                4        Drink  Medium  Low   Balanced   \n",
       "305                5      Dessert    High  Low         No   \n",
       "\n",
       "        Processing_level Preparation_Method Dominant_Color Food_Diversity  \n",
       "3              Processed              Baked          Brown            Low  \n",
       "9              Processed            Unknown          White            Low  \n",
       "27             Processed            Unknown         Yellow            Low  \n",
       "37             Processed              Baked          Brown            Low  \n",
       "39   Minimally Processed            Unknown          Brown            Low  \n",
       "..                   ...                ...            ...            ...  \n",
       "288  Minimally Processed              Baked          Brown         Medium  \n",
       "296            Processed            Unknown          White            Low  \n",
       "299          Unprocessed                Raw          Green            Low  \n",
       "301            Processed            Unknown          Brown            Low  \n",
       "305            Processed            Unknown           Pink            Low  \n",
       "\n",
       "[68 rows x 13 columns]"
      ]
     },
     "execution_count": 15,
     "metadata": {},
     "output_type": "execute_result"
    }
   ],
   "source": [
    "df[df['Cuisine'] == 'Unknown'].head(80)\n"
   ]
  },
  {
   "cell_type": "markdown",
   "metadata": {},
   "source": [
    "#### DF processing to update Health feature"
   ]
  },
  {
   "cell_type": "code",
   "execution_count": 16,
   "metadata": {},
   "outputs": [
    {
     "data": {
      "text/html": [
       "<div>\n",
       "<style scoped>\n",
       "    .dataframe tbody tr th:only-of-type {\n",
       "        vertical-align: middle;\n",
       "    }\n",
       "\n",
       "    .dataframe tbody tr th {\n",
       "        vertical-align: top;\n",
       "    }\n",
       "\n",
       "    .dataframe thead th {\n",
       "        text-align: right;\n",
       "    }\n",
       "</style>\n",
       "<table border=\"1\" class=\"dataframe\">\n",
       "  <thead>\n",
       "    <tr style=\"text-align: right;\">\n",
       "      <th></th>\n",
       "      <th>name</th>\n",
       "      <th>size</th>\n",
       "      <th>date</th>\n",
       "      <th>Cuisine</th>\n",
       "      <th>Happiness_Level</th>\n",
       "      <th>Meal_Course</th>\n",
       "      <th>Sugar</th>\n",
       "      <th>Salt</th>\n",
       "      <th>Healthy</th>\n",
       "      <th>Processing_level</th>\n",
       "      <th>Preparation_Method</th>\n",
       "      <th>Dominant_Color</th>\n",
       "      <th>Food_Diversity</th>\n",
       "    </tr>\n",
       "  </thead>\n",
       "  <tbody>\n",
       "    <tr>\n",
       "      <th>303</th>\n",
       "      <td>Food/PXL_20250222_103641020.jpg</td>\n",
       "      <td>1880348</td>\n",
       "      <td>2025-02-22</td>\n",
       "      <td>Indian</td>\n",
       "      <td>4</td>\n",
       "      <td>Main Course</td>\n",
       "      <td>1</td>\n",
       "      <td>2</td>\n",
       "      <td>1</td>\n",
       "      <td>1</td>\n",
       "      <td>Fried</td>\n",
       "      <td>Brown</td>\n",
       "      <td>2</td>\n",
       "    </tr>\n",
       "    <tr>\n",
       "      <th>95</th>\n",
       "      <td>Food/image(79).jpg</td>\n",
       "      <td>1104268</td>\n",
       "      <td>NaT</td>\n",
       "      <td>Unknown</td>\n",
       "      <td>5</td>\n",
       "      <td>Drink</td>\n",
       "      <td>1</td>\n",
       "      <td>1</td>\n",
       "      <td>2</td>\n",
       "      <td>1</td>\n",
       "      <td>Unknown</td>\n",
       "      <td>Brown</td>\n",
       "      <td>1</td>\n",
       "    </tr>\n",
       "    <tr>\n",
       "      <th>194</th>\n",
       "      <td>Food/PXL_20240327_105121422.jpg</td>\n",
       "      <td>2647096</td>\n",
       "      <td>2024-03-27</td>\n",
       "      <td>Indian</td>\n",
       "      <td>4</td>\n",
       "      <td>Main Course</td>\n",
       "      <td>1</td>\n",
       "      <td>2</td>\n",
       "      <td>1</td>\n",
       "      <td>1</td>\n",
       "      <td>Steamed</td>\n",
       "      <td>Brown</td>\n",
       "      <td>2</td>\n",
       "    </tr>\n",
       "    <tr>\n",
       "      <th>292</th>\n",
       "      <td>Food/PXL_20240702_101356022.jpg</td>\n",
       "      <td>3072913</td>\n",
       "      <td>2024-07-02</td>\n",
       "      <td>Fusion</td>\n",
       "      <td>4</td>\n",
       "      <td>Main Course</td>\n",
       "      <td>1</td>\n",
       "      <td>2</td>\n",
       "      <td>2</td>\n",
       "      <td>1</td>\n",
       "      <td>Baked, Steamed</td>\n",
       "      <td>Brown</td>\n",
       "      <td>3</td>\n",
       "    </tr>\n",
       "    <tr>\n",
       "      <th>223</th>\n",
       "      <td>Food/PXL_20240109_201344945.jpg</td>\n",
       "      <td>3173794</td>\n",
       "      <td>2024-01-09</td>\n",
       "      <td>Japanese</td>\n",
       "      <td>5</td>\n",
       "      <td>Dessert</td>\n",
       "      <td>3</td>\n",
       "      <td>1</td>\n",
       "      <td>0</td>\n",
       "      <td>2</td>\n",
       "      <td>Unknown</td>\n",
       "      <td>Pink</td>\n",
       "      <td>1</td>\n",
       "    </tr>\n",
       "  </tbody>\n",
       "</table>\n",
       "</div>"
      ],
      "text/plain": [
       "                                name     size       date   Cuisine  \\\n",
       "303  Food/PXL_20250222_103641020.jpg  1880348 2025-02-22    Indian   \n",
       "95                Food/image(79).jpg  1104268        NaT   Unknown   \n",
       "194  Food/PXL_20240327_105121422.jpg  2647096 2024-03-27    Indian   \n",
       "292  Food/PXL_20240702_101356022.jpg  3072913 2024-07-02    Fusion   \n",
       "223  Food/PXL_20240109_201344945.jpg  3173794 2024-01-09  Japanese   \n",
       "\n",
       "     Happiness_Level  Meal_Course  Sugar  Salt  Healthy  Processing_level  \\\n",
       "303                4  Main Course      1     2        1                 1   \n",
       "95                 5        Drink      1     1        2                 1   \n",
       "194                4  Main Course      1     2        1                 1   \n",
       "292                4  Main Course      1     2        2                 1   \n",
       "223                5      Dessert      3     1        0                 2   \n",
       "\n",
       "    Preparation_Method Dominant_Color  Food_Diversity  \n",
       "303              Fried          Brown               2  \n",
       "95             Unknown          Brown               1  \n",
       "194            Steamed          Brown               2  \n",
       "292     Baked, Steamed          Brown               3  \n",
       "223            Unknown           Pink               1  "
      ]
     },
     "execution_count": 16,
     "metadata": {},
     "output_type": "execute_result"
    }
   ],
   "source": [
    "# 2 = Healthy, 1 = Balanced, 0 = 'Unhealthy'\n",
    "health_value_map = {\n",
    "    'healthy':2,\n",
    "    'Balanced':1,\n",
    "    'Unhealthy':0,\n",
    "    'Unknown':1,\n",
    "    'No':0,\n",
    "    'balanced':1,\n",
    "    'Yes':2,\n",
    "    'unhealthy':0,\n",
    "    'Healthy':2\n",
    "}\n",
    "\n",
    "gen_map = {\n",
    "    'No':0,\n",
    "    'Low':1,\n",
    "    'Medium':2,\n",
    "    'High':3\n",
    "}\n",
    "\n",
    "processing_map = {\n",
    "    'Minimally Processed':1,\n",
    "    'Processed':2,\n",
    "    'Unprocessed':0\n",
    "}\n",
    "\n",
    "\n",
    "df_p = df.copy()\n",
    "df_p['Healthy'] = df_p['Healthy'].map(health_value_map)\n",
    "df_p['Salt'] = df_p['Salt'].map(gen_map)\n",
    "df_p['Sugar'] = df_p['Sugar'].map(gen_map)\n",
    "df_p['Food_Diversity'] = df_p['Food_Diversity'].map(gen_map)\n",
    "df_p['Processing_level']= df_p['Processing_level'].map(processing_map)\n",
    "\n",
    "df_p.sample(5)"
   ]
  },
  {
   "cell_type": "code",
   "execution_count": 17,
   "metadata": {},
   "outputs": [
    {
     "name": "stdout",
     "output_type": "stream",
     "text": [
      "feature name is Cuisine and unique values are :\n",
      " ['Fusion' 'Indian' 'Unknown' 'Italian' 'American' 'Chinese' 'German'\n",
      " 'Japanese' 'Combination' 'Persian' 'Vietnamese' 'French' 'Thai' 'Mexican'\n",
      " 'Turkish']\n",
      "feature name is Happiness_Level and unique values are :\n",
      " [4 5 3 2]\n",
      "feature name is Meal_Course and unique values are :\n",
      " ['Main Course' 'Dessert' 'Drink' 'Starter' 'Snack' 'Side Dish' 'Breakfast']\n",
      "feature name is Sugar and unique values are :\n",
      " [1 3 2 0]\n",
      "feature name is Salt and unique values are :\n",
      " [1 2 0]\n",
      "feature name is Healthy and unique values are :\n",
      " [2 1 0]\n",
      "feature name is Processing_level and unique values are :\n",
      " [1 2 0]\n",
      "feature name is Preparation_Method and unique values are :\n",
      " ['Combination' 'Baked' 'Unknown' 'Fried' 'Boiled' 'Frozen' 'Steamed' 'Raw'\n",
      " 'Baked, Steamed' 'Steamed, Baked' 'Steamed, Fried' 'Stir-fried'\n",
      " 'Baked, Grilled, Raw' 'Steamed,Baked' 'Baked, Roasted' 'Raw, Steamed'\n",
      " 'Baked, Grilled' 'Baked,Steamed' 'Minimally Processed' 'Baked, Fried'\n",
      " 'Baked, Fried, Grilled, Steamed' 'Baked, Steamed, Grilled' 'Fried, Raw'\n",
      " 'Fried, Baked' 'Roasted' 'Grilled']\n",
      "feature name is Dominant_Color and unique values are :\n",
      " ['Green' 'Yellow' 'Brown' 'White' 'Multicolored' 'Red' 'Orange'\n",
      " 'Dark Gray/Black' 'Beige' 'Purple' 'Transparent' 'Pink' 'Blue'\n",
      " 'Off-white' 'Cream']\n",
      "feature name is Food_Diversity and unique values are :\n",
      " [2 1 3]\n"
     ]
    }
   ],
   "source": [
    "feature_lst = ['Cuisine', 'Happiness_Level', 'Meal_Course','Sugar', 'Salt', 'Healthy', 'Processing_level', 'Preparation_Method','Dominant_Color', 'Food_Diversity']\n",
    "\n",
    "chk_unique_val(df_p, feature_lst)"
   ]
  },
  {
   "cell_type": "markdown",
   "metadata": {},
   "source": [
    "### What Cuisine is consumed more?"
   ]
  },
  {
   "cell_type": "code",
   "execution_count": 18,
   "metadata": {},
   "outputs": [
    {
     "data": {
      "text/plain": [
       "Cuisine\n",
       "Fusion        120\n",
       "Indian         86\n",
       "Italian        47\n",
       "Thai           14\n",
       "German         12\n",
       "American        9\n",
       "Japanese        7\n",
       "Chinese         6\n",
       "Mexican         5\n",
       "French          2\n",
       "Persian         1\n",
       "Vietnamese      1\n",
       "Turkish         1\n",
       "Name: count, dtype: int64"
      ]
     },
     "execution_count": 18,
     "metadata": {},
     "output_type": "execute_result"
    }
   ],
   "source": [
    "df_p['Cuisine'].value_counts()\n",
    "df_p.loc[df_p['Cuisine']=='Combination','Cuisine']='Fusion'\n",
    "df_p.loc[df_p['Cuisine']=='Unknown','Cuisine']='Fusion'\n",
    "df_p['Cuisine'].value_counts()\n",
    "\n",
    "# Of course it is Fusion "
   ]
  },
  {
   "cell_type": "code",
   "execution_count": 49,
   "metadata": {},
   "outputs": [
    {
     "data": {
      "image/png": "[encoded data removed]",
      "text/plain": [
       "<Figure size 640x480 with 1 Axes>"
      ]
     },
     "metadata": {},
     "output_type": "display_data"
    }
   ],
   "source": [
    "def plt_pie(df_p, f):\n",
    "    total = df_p[f].value_counts().values.sum()\n",
    "    def perc_cal(s):\n",
    "        return '{:.1f}%\\n{:.0f}'.format(s, total*s/100)\n",
    "    df_p_cuisine = df_p[f].value_counts()\n",
    "    plt.pie(df_p_cuisine.values, labels=df_p_cuisine.index, autopct=perc_cal)\n",
    "    plt.show()\n",
    "\n",
    "# plt_pie(df_p, 'Sugar')\n",
    "# plt_pie(df_p, 'Salt')\n",
    "plt_pie(df_p, 'Happiness_Level')"
   ]
  },
  {
   "cell_type": "code",
   "execution_count": 52,
   "metadata": {},
   "outputs": [
    {
     "data": {
      "text/plain": [
       "Index(['size', 'Happiness_Level', 'Sugar', 'Salt', 'Healthy',\n",
       "       'Processing_level', 'Food_Diversity'],\n",
       "      dtype='object')"
      ]
     },
     "execution_count": 52,
     "metadata": {},
     "output_type": "execute_result"
    }
   ],
   "source": [
    "numerics = ['int16', 'int32', 'int64', 'float16', 'float32', 'float64']\n",
    "only_numerics = df_p.select_dtypes(include=numerics)\n",
    "only_numerics.columns"
   ]
  },
  {
   "cell_type": "code",
   "execution_count": 58,
   "metadata": {},
   "outputs": [
    {
     "data": {
      "text/html": [
       "<div>\n",
       "<style scoped>\n",
       "    .dataframe tbody tr th:only-of-type {\n",
       "        vertical-align: middle;\n",
       "    }\n",
       "\n",
       "    .dataframe tbody tr th {\n",
       "        vertical-align: top;\n",
       "    }\n",
       "\n",
       "    .dataframe thead th {\n",
       "        text-align: right;\n",
       "    }\n",
       "</style>\n",
       "<table border=\"1\" class=\"dataframe\">\n",
       "  <thead>\n",
       "    <tr style=\"text-align: right;\">\n",
       "      <th></th>\n",
       "      <th>Happiness_Level</th>\n",
       "      <th>Sugar</th>\n",
       "      <th>Salt</th>\n",
       "      <th>Healthy</th>\n",
       "      <th>Processing_level</th>\n",
       "      <th>Food_Diversity</th>\n",
       "    </tr>\n",
       "  </thead>\n",
       "  <tbody>\n",
       "    <tr>\n",
       "      <th>Happiness_Level</th>\n",
       "      <td>1.000000</td>\n",
       "      <td>0.290237</td>\n",
       "      <td>-0.037341</td>\n",
       "      <td>-0.029132</td>\n",
       "      <td>0.108371</td>\n",
       "      <td>0.093414</td>\n",
       "    </tr>\n",
       "    <tr>\n",
       "      <th>Sugar</th>\n",
       "      <td>0.290237</td>\n",
       "      <td>1.000000</td>\n",
       "      <td>-0.551170</td>\n",
       "      <td>-0.514042</td>\n",
       "      <td>0.664263</td>\n",
       "      <td>-0.306616</td>\n",
       "    </tr>\n",
       "    <tr>\n",
       "      <th>Salt</th>\n",
       "      <td>-0.037341</td>\n",
       "      <td>-0.551170</td>\n",
       "      <td>1.000000</td>\n",
       "      <td>0.096176</td>\n",
       "      <td>-0.331087</td>\n",
       "      <td>0.432985</td>\n",
       "    </tr>\n",
       "    <tr>\n",
       "      <th>Healthy</th>\n",
       "      <td>-0.029132</td>\n",
       "      <td>-0.514042</td>\n",
       "      <td>0.096176</td>\n",
       "      <td>1.000000</td>\n",
       "      <td>-0.618172</td>\n",
       "      <td>0.260545</td>\n",
       "    </tr>\n",
       "    <tr>\n",
       "      <th>Processing_level</th>\n",
       "      <td>0.108371</td>\n",
       "      <td>0.664263</td>\n",
       "      <td>-0.331087</td>\n",
       "      <td>-0.618172</td>\n",
       "      <td>1.000000</td>\n",
       "      <td>-0.302990</td>\n",
       "    </tr>\n",
       "    <tr>\n",
       "      <th>Food_Diversity</th>\n",
       "      <td>0.093414</td>\n",
       "      <td>-0.306616</td>\n",
       "      <td>0.432985</td>\n",
       "      <td>0.260545</td>\n",
       "      <td>-0.302990</td>\n",
       "      <td>1.000000</td>\n",
       "    </tr>\n",
       "  </tbody>\n",
       "</table>\n",
       "</div>"
      ],
      "text/plain": [
       "                  Happiness_Level     Sugar      Salt   Healthy  \\\n",
       "Happiness_Level          1.000000  0.290237 -0.037341 -0.029132   \n",
       "Sugar                    0.290237  1.000000 -0.551170 -0.514042   \n",
       "Salt                    -0.037341 -0.551170  1.000000  0.096176   \n",
       "Healthy                 -0.029132 -0.514042  0.096176  1.000000   \n",
       "Processing_level         0.108371  0.664263 -0.331087 -0.618172   \n",
       "Food_Diversity           0.093414 -0.306616  0.432985  0.260545   \n",
       "\n",
       "                  Processing_level  Food_Diversity  \n",
       "Happiness_Level           0.108371        0.093414  \n",
       "Sugar                     0.664263       -0.306616  \n",
       "Salt                     -0.331087        0.432985  \n",
       "Healthy                  -0.618172        0.260545  \n",
       "Processing_level          1.000000       -0.302990  \n",
       "Food_Diversity           -0.302990        1.000000  "
      ]
     },
     "execution_count": 58,
     "metadata": {},
     "output_type": "execute_result"
    }
   ],
   "source": [
    "only_numerics = only_numerics[['Happiness_Level', 'Sugar', 'Salt', 'Healthy','Processing_level', 'Food_Diversity']]\n",
    "only_numerics.corr()\n"
   ]
  },
  {
   "cell_type": "code",
   "execution_count": 59,
   "metadata": {},
   "outputs": [
    {
     "data": {
      "image/png": "[encoded data removed]",
      "text/plain": [
       "<Figure size 480x480 with 1 Axes>"
      ]
     },
     "metadata": {},
     "output_type": "display_data"
    }
   ],
   "source": [
    "plt.matshow(only_numerics.corr())\n",
    "plt.xticks(range(0,6),only_numerics.columns)\n",
    "plt.yticks(range(0,6),only_numerics.columns)\n",
    "plt.show()"
   ]
  },
  {
   "cell_type": "code",
   "execution_count": 60,
   "metadata": {},
   "outputs": [
    {
     "data": {
      "text/plain": [
       "<Axes: xlabel='Cuisine', ylabel='Happiness_Level'>"
      ]
     },
     "execution_count": 60,
     "metadata": {},
     "output_type": "execute_result"
    },
    {
     "data": {
      "image/png": "[encoded data removed]",
      "text/plain": [
       "<Figure size 640x480 with 1 Axes>"
      ]
     },
     "metadata": {},
     "output_type": "display_data"
    }
   ],
   "source": [
    "sns.boxplot(x = 'Cuisine', y = 'Happiness_Level', data = df_p)"
   ]
  },
  {
   "cell_type": "code",
   "execution_count": 62,
   "metadata": {},
   "outputs": [
    {
     "data": {
      "text/plain": [
       "<Axes: xlabel='Happiness_Level', ylabel='Sugar'>"
      ]
     },
     "execution_count": 62,
     "metadata": {},
     "output_type": "execute_result"
    },
    {
     "data": {
      "image/png": "[encoded data removed]",
      "text/plain": [
       "<Figure size 640x480 with 1 Axes>"
      ]
     },
     "metadata": {},
     "output_type": "display_data"
    }
   ],
   "source": [
    "sns.boxplot(x = 'Happiness_Level', y = 'Sugar', data = df_p)"
   ]
  },
  {
   "cell_type": "code",
   "execution_count": 67,
   "metadata": {},
   "outputs": [
    {
     "data": {
      "text/plain": [
       "<Axes: xlabel='Healthy', ylabel='Cuisine'>"
      ]
     },
     "execution_count": 67,
     "metadata": {},
     "output_type": "execute_result"
    },
    {
     "data": {
      "image/png": "[encoded data removed]",
      "text/plain": [
       "<Figure size 640x480 with 1 Axes>"
      ]
     },
     "metadata": {},
     "output_type": "display_data"
    }
   ],
   "source": [
    "# 'Healthy','Processing_level', 'Food_Diversity'\n",
    "sns.boxplot(x = 'Healthy', y = 'Cuisine', data = df_p)"
   ]
  }
 ],
 "metadata": {
  "kernelspec": {
   "display_name": "3.9.2",
   "language": "python",
   "name": "python3"
  },
  "language_info": {
   "codemirror_mode": {
    "name": "ipython",
    "version": 3
   },
   "file_extension": ".py",
   "mimetype": "text/x-python",
   "name": "python",
   "nbconvert_exporter": "python",
   "pygments_lexer": "ipython3",
   "version": "3.9.2"
  }
 },
 "nbformat": 4,
 "nbformat_minor": 2
}
